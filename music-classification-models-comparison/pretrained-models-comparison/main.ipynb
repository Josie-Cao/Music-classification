{
 "cells": [
  {
   "cell_type": "markdown",
   "metadata": {},
   "source": [
    "# Pretrained Models Comparison for Music Classification\n",
    "\n",
    "This notebook provides an interactive interface for comparing different pretrained models for music genre classification.\n",
    "\n",
    "## Models Compared\n",
    "- **CNN Baseline**: Custom 4-layer CNN trained from scratch\n",
    "- **ResNet-18**: Pretrained ResNet-18 with conservative 3-stage transfer learning\n",
    "- **Vision Transformer**: Pretrained ViT-Base with 2-stage fine-tuning"
   ]
  },
  {
   "cell_type": "markdown",
   "metadata": {},
   "source": [
    "## 1. Setup and Configuration"
   ]
  },
  {
   "cell_type": "code",
   "execution_count": null,
   "metadata": {},
   "outputs": [],
   "source": [
    "import sys\n",
    "import warnings\n",
    "warnings.filterwarnings('ignore')\n",
    "\n",
    "# Import modular components\n",
    "from models import MusicGenreCNN, OptimizedResNet18MusicClassifier, ViTMusicClassifier, is_transformers_available\n",
    "from data import prepare_cv_data, print_data_summary\n",
    "from training import get_cnn_config, get_resnet_config, get_vit_config, get_quick_test_config\n",
    "from utils import set_seed, get_device_info\n",
    "\n",
    "import torch\n",
    "\n",
    "# Set random seeds\n",
    "set_seed(42)\n",
    "\n",
    "# Check device\n",
    "device = torch.device(\"cuda\" if torch.cuda.is_available() else \"cpu\")\n",
    "device_info = get_device_info()\n",
    "print(f\"Using device: {device_info['device_name']}\")\n",
    "print(f\"CUDA available: {device_info['cuda_available']}\")\n",
    "print(f\"Transformers available: {is_transformers_available()}\")"
   ]
  },
  {
   "cell_type": "markdown",
   "metadata": {},
   "source": [
    "## 2. Data Preparation"
   ]
  },
  {
   "cell_type": "code",
   "execution_count": null,
   "metadata": {},
   "outputs": [],
   "source": [
    "# Prepare cross-validation data\n",
    "print(\"Preparing data for cross-validation...\")\n",
    "\n",
    "data_dir = \"Data/images_original/\"\n",
    "n_folds = 3  # Use 3 folds for quick testing\n",
    "\n",
    "all_images, all_labels, cv_splits, genre_to_idx, idx_to_genre = prepare_cv_data(\n",
    "    data_dir, n_folds=n_folds\n",
    ")\n",
    "\n",
    "print_data_summary(all_images, all_labels, cv_splits, idx_to_genre)\n",
    "print(f\"\\nNumber of classes: {len(genre_to_idx)}\")"
   ]
  },
  {
   "cell_type": "markdown",
   "metadata": {},
   "source": [
    "## 3. Model Configuration Comparison"
   ]
  },
  {
   "cell_type": "code",
   "execution_count": null,
   "metadata": {},
   "outputs": [],
   "source": [
    "# Compare different model configurations\n",
    "print(\"Model Configurations:\")\n",
    "print(\"=\" * 60)\n",
    "\n",
    "configs = {\n",
    "    'CNN Baseline': get_quick_test_config('cnn'),\n",
    "    'ResNet-18': get_quick_test_config('resnet'),\n",
    "}\n",
    "\n",
    "if is_transformers_available():\n",
    "    configs['ViT'] = get_quick_test_config('vit')\n",
    "\n",
    "for name, config in configs.items():\n",
    "    config.num_classes = len(genre_to_idx)\n",
    "    print(f\"\\n{name}:\")\n",
    "    print(f\"  Input size: {config.input_size}\")\n",
    "    print(f\"  Batch size: {config.batch_size}\")\n",
    "    print(f\"  Learning rate: {config.learning_rate}\")\n",
    "    print(f\"  Epochs: {config.num_epochs}\")\n",
    "    print(f\"  Model type: {config.model_type}\")"
   ]
  },
  {
   "cell_type": "markdown",
   "metadata": {},
   "source": [
    "## 4. Model Architecture Preview"
   ]
  },
  {
   "cell_type": "code",
   "execution_count": null,
   "metadata": {},
   "outputs": [],
   "source": [
    "# Create sample models to inspect architectures\n",
    "print(\"Model Architecture Comparison:\")\n",
    "print(\"=\" * 60)\n",
    "\n",
    "num_classes = len(genre_to_idx)\n",
    "\n",
    "# CNN Baseline\n",
    "cnn_model = MusicGenreCNN(num_classes=num_classes)\n",
    "cnn_info = cnn_model.get_model_info()\n",
    "print(f\"\\nCNN Baseline:\")\n",
    "print(f\"  Parameters: {cnn_info['num_parameters']:,}\")\n",
    "print(f\"  Architecture: {cnn_info['architecture']}\")\n",
    "\n",
    "# ResNet-18\n",
    "resnet_model = OptimizedResNet18MusicClassifier(num_classes=num_classes)\n",
    "resnet_info = resnet_model.get_model_info()\n",
    "print(f\"\\nResNet-18:\")\n",
    "print(f\"  Parameters: {resnet_info['num_parameters']:,}\")\n",
    "print(f\"  Trainable: {resnet_info['trainable_parameters']:,}\")\n",
    "print(f\"  Architecture: {resnet_info['architecture']}\")\n",
    "\n",
    "# ViT (if available)\n",
    "if is_transformers_available():\n",
    "    try:\n",
    "        vit_model = ViTMusicClassifier(num_classes=num_classes)\n",
    "        vit_info = vit_model.get_model_info()\n",
    "        print(f\"\\nVision Transformer:\")\n",
    "        print(f\"  Parameters: {vit_info['num_parameters']:,}\")\n",
    "        print(f\"  Trainable: {vit_info['trainable_parameters']:,}\")\n",
    "        print(f\"  Architecture: {vit_info['architecture']}\")\n",
    "    except Exception as e:\n",
    "        print(f\"\\nViT model creation failed: {e}\")\n",
    "\n",
    "# Clean up\n",
    "del cnn_model, resnet_model\n",
    "if 'vit_model' in locals():\n",
    "    del vit_model"
   ]
  },
  {
   "cell_type": "markdown",
   "metadata": {},
   "source": [
    "## 5. Run Quick Experiment"
   ]
  },
  {
   "cell_type": "code",
   "execution_count": null,
   "metadata": {},
   "outputs": [],
   "source": [
    "# Run the complete experiment\n",
    "print(\"Running quick model comparison experiment...\")\n",
    "print(\"This may take several minutes to complete.\")\n",
    "print(\"\\nFor full experiment, run: python main.py\")\n",
    "print(\"For quick test, run: python main.py --quick\")\n",
    "\n",
    "# You can uncomment the following line to run the experiment in the notebook\n",
    "# from main import run_model_comparison\n",
    "# results = run_model_comparison('quick')"
   ]
  },
  {
   "cell_type": "markdown",
   "metadata": {},
   "source": [
    "## 6. Analysis and Visualization\n",
    "\n",
    "After running the experiment, you can load and analyze the results:"
   ]
  },
  {
   "cell_type": "code",
   "execution_count": null,
   "metadata": {},
   "outputs": [],
   "source": [
    "import pandas as pd\n",
    "import matplotlib.pyplot as plt\n",
    "import numpy as np\n",
    "\n",
    "# Load results (if experiment has been run)\n",
    "try:\n",
    "    results_df = pd.read_csv('pretrained_comparison_quick_results.csv')\n",
    "    \n",
    "    print(\"Experiment Results:\")\n",
    "    print(\"=\" * 40)\n",
    "    \n",
    "    # Summary statistics\n",
    "    summary = results_df.groupby('Model')['Test_Accuracy'].agg(['mean', 'std']).round(2)\n",
    "    print(summary)\n",
    "    \n",
    "    # Create visualization\n",
    "    plt.figure(figsize=(10, 6))\n",
    "    models = results_df['Model'].unique()\n",
    "    \n",
    "    for i, model in enumerate(models):\n",
    "        model_data = results_df[results_df['Model'] == model]\n",
    "        plt.scatter([i] * len(model_data), model_data['Test_Accuracy'], alpha=0.7, s=100)\n",
    "        plt.errorbar(i, model_data['Test_Accuracy'].mean(), \n",
    "                    yerr=model_data['Test_Accuracy'].std(), \n",
    "                    fmt='o', color='red', capsize=5, markersize=8)\n",
    "    \n",
    "    plt.xticks(range(len(models)), models)\n",
    "    plt.ylabel('Test Accuracy (%)')\n",
    "    plt.title('Model Comparison Results')\n",
    "    plt.grid(True, alpha=0.3)\n",
    "    plt.tight_layout()\n",
    "    plt.show()\n",
    "    \n",
    "except FileNotFoundError:\n",
    "    print(\"Results file not found. Please run the experiment first.\")\n",
    "    print(\"Run: python main.py --quick\")"
   ]
  },
  {
   "cell_type": "markdown",
   "metadata": {},
   "source": [
    "## 7. Next Steps\n",
    "\n",
    "To run the complete experiment:\n",
    "\n",
    "1. **Quick test**: `python main.py --quick`\n",
    "2. **Full experiment**: `python main.py`\n",
    "3. **Analyze results**: Load the generated CSV files for detailed analysis\n",
    "\n",
    "The modular structure allows you to:\n",
    "- Easily modify training configurations\n",
    "- Add new model architectures\n",
    "- Customize training strategies\n",
    "- Extend analysis and visualization"
   ]
  },
  {
   "cell_type": "code",
   "execution_count": null,
   "metadata": {},
   "outputs": [],
   "source": [
    "print(\"✅ Notebook setup complete!\")\n",
    "print(\"\\nModular structure:\")\n",
    "print(\"  📁 models/ - Model architectures (CNN, ResNet, ViT)\")\n",
    "print(\"  📁 data/ - Data processing and loading\")\n",
    "print(\"  📁 training/ - Training configurations and strategies\")\n",
    "print(\"  📁 analysis/ - Evaluation and statistical analysis\")\n",
    "print(\"  📁 utils/ - Common utilities\")\n",
    "print(\"\\nReady for experimentation! 🚀\")"
   ]
  }
 ],
 "metadata": {
  "kernelspec": {
   "display_name": "Python 3",
   "language": "python",
   "name": "python3"
  },
  "language_info": {
   "codemirror_mode": {
    "name": "ipython",
    "version": 3
   },
   "file_extension": ".py",
   "mimetype": "text/x-python",
   "name": "python",
   "nbconvert_exporter": "python",
   "pygments_lexer": "ipython3",
   "version": "3.8.5"
  }
 },
 "nbformat": 4,
 "nbformat_minor": 4
}